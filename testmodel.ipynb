{
 "cells": [
  {
   "cell_type": "code",
   "execution_count": 15,
   "metadata": {},
   "outputs": [],
   "source": [
    "import pandas as pd\n",
    "import folium\n",
    "\n",
    "from sklearn.model_selection import train_test_split\n",
    "from sklearn.feature_extraction.text import CountVectorizer\n",
    "from sklearn.linear_model import LogisticRegression\n",
    "from sklearn.ensemble import GradientBoostingClassifier\n",
    "from sklearn.metrics import roc_auc_score, f1_score\n",
    "\n",
    "from folium import plugins\n",
    "from folium.plugins import HeatMap\n",
    "from IPython.display import display"
   ]
  },
  {
   "cell_type": "code",
   "execution_count": 16,
   "metadata": {},
   "outputs": [
    {
     "name": "stderr",
     "output_type": "stream",
     "text": [
      "C:\\Users\\jnman\\AppData\\Local\\Temp\\ipykernel_9100\\3140601334.py:3: FutureWarning: The default value of regex will change from True to False in a future version.\n",
      "  df['coordinates'] = df['coordinates'].str.replace(\"{'longitude':\", \"\")\n",
      "C:\\Users\\jnman\\AppData\\Local\\Temp\\ipykernel_9100\\3140601334.py:5: FutureWarning: The default value of regex will change from True to False in a future version. In addition, single character regular expressions will *not* be treated as literal strings when regex=True.\n",
      "  df['coordinates'] = df['coordinates'].str.replace(\"}\", \"\")\n"
     ]
    },
    {
     "data": {
      "text/html": [
       "<div>\n",
       "<style scoped>\n",
       "    .dataframe tbody tr th:only-of-type {\n",
       "        vertical-align: middle;\n",
       "    }\n",
       "\n",
       "    .dataframe tbody tr th {\n",
       "        vertical-align: top;\n",
       "    }\n",
       "\n",
       "    .dataframe thead th {\n",
       "        text-align: right;\n",
       "    }\n",
       "</style>\n",
       "<table border=\"1\" class=\"dataframe\">\n",
       "  <thead>\n",
       "    <tr style=\"text-align: right;\">\n",
       "      <th></th>\n",
       "      <th>id</th>\n",
       "      <th>rating</th>\n",
       "      <th>date</th>\n",
       "      <th>content</th>\n",
       "      <th>coordinates</th>\n",
       "      <th>place</th>\n",
       "      <th>Longitude</th>\n",
       "      <th>Latitude</th>\n",
       "    </tr>\n",
       "  </thead>\n",
       "  <tbody>\n",
       "    <tr>\n",
       "      <th>0</th>\n",
       "      <td>0</td>\n",
       "      <td>2</td>\n",
       "      <td>2022-04-12 21:21:06+00:00</td>\n",
       "      <td>HEAR US!!! HELP US!! https://t.co/E6NDZKtQ4c</td>\n",
       "      <td>124.7434968 10.5470262</td>\n",
       "      <td>{'fullName': 'City Of Baybay, Eastern Visayas'...</td>\n",
       "      <td>124.7434968</td>\n",
       "      <td>10.5470262</td>\n",
       "    </tr>\n",
       "    <tr>\n",
       "      <th>1</th>\n",
       "      <td>1</td>\n",
       "      <td>0</td>\n",
       "      <td>2022-04-12 20:56:00+00:00</td>\n",
       "      <td>Grabe Yung ulan kala ko Hindi na titigil\\n#pra...</td>\n",
       "      <td>124.3892082 11.5046982</td>\n",
       "      <td>{'fullName': 'Naval, Eastern Visayas', 'name':...</td>\n",
       "      <td>124.3892082</td>\n",
       "      <td>11.5046982</td>\n",
       "    </tr>\n",
       "    <tr>\n",
       "      <th>2</th>\n",
       "      <td>2</td>\n",
       "      <td>1</td>\n",
       "      <td>2022-04-12 20:53:09+00:00</td>\n",
       "      <td>We know too well that Biliranons,LeyteÃ±os and...</td>\n",
       "      <td>124.3892082 11.5046982</td>\n",
       "      <td>{'fullName': 'Naval, Eastern Visayas', 'name':...</td>\n",
       "      <td>124.3892082</td>\n",
       "      <td>11.5046982</td>\n",
       "    </tr>\n",
       "    <tr>\n",
       "      <th>3</th>\n",
       "      <td>3</td>\n",
       "      <td>1</td>\n",
       "      <td>2022-04-12 20:44:43+00:00</td>\n",
       "      <td>The flood waters entered our residence past 12...</td>\n",
       "      <td>124.8055272 11.32366</td>\n",
       "      <td>{'fullName': 'Babatngon, Eastern Visayas', 'na...</td>\n",
       "      <td>124.8055272</td>\n",
       "      <td>11.32366</td>\n",
       "    </tr>\n",
       "    <tr>\n",
       "      <th>4</th>\n",
       "      <td>4</td>\n",
       "      <td>2</td>\n",
       "      <td>2022-04-12 20:40:02+00:00</td>\n",
       "      <td>HELP US !!!! \\n\\n#BaybayNeedsHelp #BaybayCityN...</td>\n",
       "      <td>124.7434968 10.5470262</td>\n",
       "      <td>{'fullName': 'City Of Baybay, Eastern Visayas'...</td>\n",
       "      <td>124.7434968</td>\n",
       "      <td>10.5470262</td>\n",
       "    </tr>\n",
       "  </tbody>\n",
       "</table>\n",
       "</div>"
      ],
      "text/plain": [
       "   id  rating                       date  \\\n",
       "0   0       2  2022-04-12 21:21:06+00:00   \n",
       "1   1       0  2022-04-12 20:56:00+00:00   \n",
       "2   2       1  2022-04-12 20:53:09+00:00   \n",
       "3   3       1  2022-04-12 20:44:43+00:00   \n",
       "4   4       2  2022-04-12 20:40:02+00:00   \n",
       "\n",
       "                                             content              coordinates  \\\n",
       "0       HEAR US!!! HELP US!! https://t.co/E6NDZKtQ4c   124.7434968 10.5470262   \n",
       "1  Grabe Yung ulan kala ko Hindi na titigil\\n#pra...   124.3892082 11.5046982   \n",
       "2  We know too well that Biliranons,LeyteÃ±os and...   124.3892082 11.5046982   \n",
       "3  The flood waters entered our residence past 12...     124.8055272 11.32366   \n",
       "4  HELP US !!!! \\n\\n#BaybayNeedsHelp #BaybayCityN...   124.7434968 10.5470262   \n",
       "\n",
       "                                               place    Longitude    Latitude  \n",
       "0  {'fullName': 'City Of Baybay, Eastern Visayas'...  124.7434968  10.5470262  \n",
       "1  {'fullName': 'Naval, Eastern Visayas', 'name':...  124.3892082  11.5046982  \n",
       "2  {'fullName': 'Naval, Eastern Visayas', 'name':...  124.3892082  11.5046982  \n",
       "3  {'fullName': 'Babatngon, Eastern Visayas', 'na...  124.8055272    11.32366  \n",
       "4  {'fullName': 'City Of Baybay, Eastern Visayas'...  124.7434968  10.5470262  "
      ]
     },
     "execution_count": 16,
     "metadata": {},
     "output_type": "execute_result"
    }
   ],
   "source": [
    "# load tweets from csv file\n",
    "df = pd.read_csv(\"agaton_leyte.csv\", encoding='latin-1')\n",
    "df['coordinates'] = df['coordinates'].str.replace(\"{'longitude':\", \"\")\n",
    "df['coordinates'] = df['coordinates'].str.replace(\", 'latitude':\", \"\")\n",
    "df['coordinates'] = df['coordinates'].str.replace(\"}\", \"\")\n",
    "df['Longitude'] = df['coordinates'].str.split(' ', expand = True)[1]\n",
    "df['Latitude'] = df['coordinates'].str.split(' ', expand = True)[2]\n",
    "df.head()"
   ]
  },
  {
   "cell_type": "code",
   "execution_count": 17,
   "metadata": {},
   "outputs": [
    {
     "data": {
      "text/plain": [
       "0    59\n",
       "1    21\n",
       "2    20\n",
       "Name: rating, dtype: int64"
      ]
     },
     "execution_count": 17,
     "metadata": {},
     "output_type": "execute_result"
    }
   ],
   "source": [
    "# counts tweets in each rating\n",
    "df['rating'].value_counts()"
   ]
  },
  {
   "cell_type": "code",
   "execution_count": 18,
   "metadata": {},
   "outputs": [
    {
     "name": "stdout",
     "output_type": "stream",
     "text": [
      "0.59\n"
     ]
    }
   ],
   "source": [
    "# baseline model accuracy score\n",
    "print(59/(59+21+20))"
   ]
  },
  {
   "cell_type": "code",
   "execution_count": 19,
   "metadata": {},
   "outputs": [
    {
     "name": "stdout",
     "output_type": "stream",
     "text": [
      "(50, 1531)\n",
      "(50, 1531)\n"
     ]
    }
   ],
   "source": [
    "# split data into training data and testing data\n",
    "X = df['content']\n",
    "Y = df['rating']\n",
    "\n",
    "#X.head()\n",
    "#Y.head()\n",
    "\n",
    "X_train, X_test, Y_train, Y_test = train_test_split(X, Y, random_state=42, test_size=0.50)\n",
    "\n",
    "# instantiate countvectorizer\n",
    "vect = CountVectorizer(analyzer = \"word\", ngram_range=(1, 2))\n",
    "\n",
    "# fit on the training data, transform training and test data\n",
    "train_data = vect.fit_transform(X_train)\n",
    "test_data = vect.transform(X_test)\n",
    "train_data = train_data.toarray()\n",
    "\n",
    "print(train_data.shape)\n",
    "print(test_data.shape)"
   ]
  },
  {
   "cell_type": "code",
   "execution_count": 20,
   "metadata": {},
   "outputs": [
    {
     "name": "stdout",
     "output_type": "stream",
     "text": [
      "Accuracy score (training): 1.000\n",
      "Accuracy score (testing): 0.760\n"
     ]
    }
   ],
   "source": [
    "# Logistic Regression model\n",
    "lr = LogisticRegression()\n",
    "\n",
    "test = lr.fit(train_data, Y_train)\n",
    "print(\"Accuracy score (training): {0:.3f}\".format(lr.score(train_data, Y_train)))\n",
    "\n",
    "# accuracy score of model\n",
    "print(\"Accuracy score (testing): {0:.3f}\".format(lr.score(test_data, Y_test)))"
   ]
  },
  {
   "cell_type": "code",
   "execution_count": 21,
   "metadata": {},
   "outputs": [
    {
     "name": "stdout",
     "output_type": "stream",
     "text": [
      "Accuracy score (training): 1.000\n",
      "Accuracy score (testing): 0.680\n"
     ]
    }
   ],
   "source": [
    "# Gradient Boosting Classifier model\n",
    "gb = GradientBoostingClassifier()\n",
    "\n",
    "gb.fit(train_data, Y_train)\n",
    "print(\"Accuracy score (training): {0:.3f}\".format(gb.score(train_data, Y_train)))\n",
    "\n",
    "# accuracy score of model\n",
    "print(\"Accuracy score (testing): {0:.3f}\".format(gb.score(test_data, Y_test)))"
   ]
  },
  {
   "cell_type": "code",
   "execution_count": 22,
   "metadata": {},
   "outputs": [
    {
     "name": "stdout",
     "output_type": "stream",
     "text": [
      "[0 0 0 0 0 2 0 0 0 0 0 0 0 0 0 0 1 0 2 0 1 0 0 0 0 2 0 0 0 0 0 2 0 0 2 0 1\n",
      " 0 0 0 0 0 0 0 0 0 0 0 0 0]\n"
     ]
    }
   ],
   "source": [
    "# print predictions in test data\n",
    "lr_pred = lr.predict(test_data)\n",
    "print(lr_pred)"
   ]
  },
  {
   "cell_type": "code",
   "execution_count": 23,
   "metadata": {},
   "outputs": [
    {
     "name": "stdout",
     "output_type": "stream",
     "text": [
      "[0 0 0 0 0 2 0 0 0 0 0 0 0 0 0 0 0 0 0 0 0 0 0 0 0 2 0 0 0 0 0 2 0 0 2 0 0\n",
      " 0 0 0 0 0 0 0 0 0 0 0 0 0]\n"
     ]
    }
   ],
   "source": [
    "# print predictions in test data\n",
    "gb_pred = gb.predict(test_data)\n",
    "print(gb_pred)"
   ]
  },
  {
   "cell_type": "code",
   "execution_count": 24,
   "metadata": {},
   "outputs": [],
   "source": [
    "# save predictions in csv file\n",
    "wrong_pred = pd.DataFrame(X_test, columns =['content'])\n",
    "\n",
    "wrong_pred.loc[:, 'coordinates'] = df['coordinates']\n",
    "wrong_pred.loc[:, 'Latitude'] = df['Latitude']\n",
    "wrong_pred.loc[:, 'Longitude'] = df['Longitude']\n",
    "wrong_pred.loc[:, 'actual'] = Y_test\n",
    "wrong_pred.loc[:, 'predicted'] = gb_pred\n",
    "wrong_pred.loc[:, 'new_score'] = wrong_pred['actual'] + (4* wrong_pred['predicted'])\n",
    "wrong_pred.head()\n",
    "\n",
    "wrong_pred.to_csv(\"wrongpred.csv\")"
   ]
  },
  {
   "cell_type": "code",
   "execution_count": 25,
   "metadata": {},
   "outputs": [
    {
     "name": "stdout",
     "output_type": "stream",
     "text": [
      "0     30\n",
      "2      8\n",
      "1      8\n",
      "10     4\n",
      "Name: new_score, dtype: int64\n",
      "ROC AUC score: 0.9130434782608696\n"
     ]
    }
   ],
   "source": [
    "print(wrong_pred['new_score'].value_counts())\n",
    "print(f\"ROC AUC score: {roc_auc_score(gb_pred, Y_test)}\")"
   ]
  },
  {
   "cell_type": "code",
   "execution_count": 26,
   "metadata": {},
   "outputs": [
    {
     "data": {
      "text/html": [
       "<div style=\"width:100%;\"><div style=\"position:relative;width:100%;height:0;padding-bottom:60%;\"><span style=\"color:#565656\">Make this Notebook Trusted to load map: File -> Trust Notebook</span><iframe srcdoc=\"&lt;!DOCTYPE html&gt;\n",
       "&lt;head&gt;    \n",
       "    &lt;meta http-equiv=&quot;content-type&quot; content=&quot;text/html; charset=UTF-8&quot; /&gt;\n",
       "    \n",
       "        &lt;script&gt;\n",
       "            L_NO_TOUCH = false;\n",
       "            L_DISABLE_3D = false;\n",
       "        &lt;/script&gt;\n",
       "    \n",
       "    &lt;style&gt;html, body {width: 100%;height: 100%;margin: 0;padding: 0;}&lt;/style&gt;\n",
       "    &lt;style&gt;#map {position:absolute;top:0;bottom:0;right:0;left:0;}&lt;/style&gt;\n",
       "    &lt;script src=&quot;https://cdn.jsdelivr.net/npm/leaflet@1.6.0/dist/leaflet.js&quot;&gt;&lt;/script&gt;\n",
       "    &lt;script src=&quot;https://code.jquery.com/jquery-1.12.4.min.js&quot;&gt;&lt;/script&gt;\n",
       "    &lt;script src=&quot;https://maxcdn.bootstrapcdn.com/bootstrap/3.2.0/js/bootstrap.min.js&quot;&gt;&lt;/script&gt;\n",
       "    &lt;script src=&quot;https://cdnjs.cloudflare.com/ajax/libs/Leaflet.awesome-markers/2.0.2/leaflet.awesome-markers.js&quot;&gt;&lt;/script&gt;\n",
       "    &lt;link rel=&quot;stylesheet&quot; href=&quot;https://cdn.jsdelivr.net/npm/leaflet@1.6.0/dist/leaflet.css&quot;/&gt;\n",
       "    &lt;link rel=&quot;stylesheet&quot; href=&quot;https://maxcdn.bootstrapcdn.com/bootstrap/3.2.0/css/bootstrap.min.css&quot;/&gt;\n",
       "    &lt;link rel=&quot;stylesheet&quot; href=&quot;https://maxcdn.bootstrapcdn.com/bootstrap/3.2.0/css/bootstrap-theme.min.css&quot;/&gt;\n",
       "    &lt;link rel=&quot;stylesheet&quot; href=&quot;https://maxcdn.bootstrapcdn.com/font-awesome/4.6.3/css/font-awesome.min.css&quot;/&gt;\n",
       "    &lt;link rel=&quot;stylesheet&quot; href=&quot;https://cdnjs.cloudflare.com/ajax/libs/Leaflet.awesome-markers/2.0.2/leaflet.awesome-markers.css&quot;/&gt;\n",
       "    &lt;link rel=&quot;stylesheet&quot; href=&quot;https://cdn.jsdelivr.net/gh/python-visualization/folium/folium/templates/leaflet.awesome.rotate.min.css&quot;/&gt;\n",
       "    \n",
       "            &lt;meta name=&quot;viewport&quot; content=&quot;width=device-width,\n",
       "                initial-scale=1.0, maximum-scale=1.0, user-scalable=no&quot; /&gt;\n",
       "            &lt;style&gt;\n",
       "                #map_3dc32ea692896aaa9b2177fe94e0efb7 {\n",
       "                    position: relative;\n",
       "                    width: 100.0%;\n",
       "                    height: 100.0%;\n",
       "                    left: 0.0%;\n",
       "                    top: 0.0%;\n",
       "                }\n",
       "            &lt;/style&gt;\n",
       "        \n",
       "    &lt;script src=&quot;https://cdn.jsdelivr.net/gh/python-visualization/folium@master/folium/templates/leaflet_heat.min.js&quot;&gt;&lt;/script&gt;\n",
       "&lt;/head&gt;\n",
       "&lt;body&gt;    \n",
       "    \n",
       "            &lt;div class=&quot;folium-map&quot; id=&quot;map_3dc32ea692896aaa9b2177fe94e0efb7&quot; &gt;&lt;/div&gt;\n",
       "        \n",
       "&lt;/body&gt;\n",
       "&lt;script&gt;    \n",
       "    \n",
       "            var map_3dc32ea692896aaa9b2177fe94e0efb7 = L.map(\n",
       "                &quot;map_3dc32ea692896aaa9b2177fe94e0efb7&quot;,\n",
       "                {\n",
       "                    center: [10.847622263721211, 124.88887070186077],\n",
       "                    crs: L.CRS.EPSG3857,\n",
       "                    zoom: 8,\n",
       "                    zoomControl: true,\n",
       "                    preferCanvas: false,\n",
       "                }\n",
       "            );\n",
       "\n",
       "            \n",
       "\n",
       "        \n",
       "    \n",
       "            var tile_layer_fe5487e8e3f9885bac190c4a7420684a = L.tileLayer(\n",
       "                &quot;https://{s}.tile.openstreetmap.org/{z}/{x}/{y}.png&quot;,\n",
       "                {&quot;attribution&quot;: &quot;Data by \\u0026copy; \\u003ca href=\\&quot;http://openstreetmap.org\\&quot;\\u003eOpenStreetMap\\u003c/a\\u003e, under \\u003ca href=\\&quot;http://www.openstreetmap.org/copyright\\&quot;\\u003eODbL\\u003c/a\\u003e.&quot;, &quot;detectRetina&quot;: false, &quot;maxNativeZoom&quot;: 18, &quot;maxZoom&quot;: 18, &quot;minZoom&quot;: 0, &quot;noWrap&quot;: false, &quot;opacity&quot;: 1, &quot;subdomains&quot;: &quot;abc&quot;, &quot;tms&quot;: false}\n",
       "            ).addTo(map_3dc32ea692896aaa9b2177fe94e0efb7);\n",
       "        \n",
       "    \n",
       "            var heat_map_28959ef9ee0c36920b249b5a064c3e4c = L.heatLayer(\n",
       "                [[10.5470262, 124.7434968], [11.0695902, 124.6700376], [10.5470262, 124.7434968], [10.9533981, 124.4758848]],\n",
       "                {&quot;blur&quot;: 15, &quot;maxZoom&quot;: 18, &quot;minOpacity&quot;: 0.5, &quot;radius&quot;: 15}\n",
       "            ).addTo(map_3dc32ea692896aaa9b2177fe94e0efb7);\n",
       "        \n",
       "&lt;/script&gt;\" style=\"position:absolute;width:100%;height:100%;left:0;top:0;border:none !important;\" allowfullscreen webkitallowfullscreen mozallowfullscreen></iframe></div></div>"
      ],
      "text/plain": [
       "<folium.folium.Map at 0x18e2da2f3a0>"
      ]
     },
     "execution_count": 26,
     "metadata": {},
     "output_type": "execute_result"
    }
   ],
   "source": [
    "fol_map = folium.Map(location=[10.847622263721211, 124.88887070186077], zoom_start=8)\n",
    "\n",
    "df_locs = pd.DataFrame(columns = ['Latitude', 'Longitude'])\n",
    "df_locs['Latitude'] = wrong_pred.loc[wrong_pred['predicted'] == 2, 'Latitude']\n",
    "df_locs['Longitude'] = wrong_pred.loc[wrong_pred['predicted'] == 2, 'Longitude']\n",
    "\n",
    "df_locs.head()\n",
    "\n",
    "markers = df_locs[['Latitude','Longitude']].values\n",
    "fol_map.add_child(plugins.HeatMap(markers, radius=15))\n",
    "fol_map"
   ]
  }
 ],
 "metadata": {
  "interpreter": {
   "hash": "4d7dce87e86efda519c1b33957d9a5d23ca41053c61955a0a394f9d9cd651601"
  },
  "kernelspec": {
   "display_name": "Python 3.9.7 64-bit (system)",
   "language": "python",
   "name": "python3"
  },
  "language_info": {
   "codemirror_mode": {
    "name": "ipython",
    "version": 3
   },
   "file_extension": ".py",
   "mimetype": "text/x-python",
   "name": "python",
   "nbconvert_exporter": "python",
   "pygments_lexer": "ipython3",
   "version": "3.9.7"
  },
  "orig_nbformat": 4
 },
 "nbformat": 4,
 "nbformat_minor": 2
}
