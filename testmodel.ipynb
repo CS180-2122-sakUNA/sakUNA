{
 "cells": [
  {
   "cell_type": "code",
   "execution_count": 104,
   "metadata": {},
   "outputs": [],
   "source": [
    "import pandas as pd\n",
    "import numpy as np\n",
    "import folium\n",
    "\n",
    "from sklearn.model_selection import train_test_split\n",
    "from sklearn.feature_extraction.text import TfidfVectorizer\n",
    "from sklearn.linear_model import LogisticRegression\n",
    "from sklearn.ensemble import GradientBoostingClassifier\n",
    "from sklearn.metrics import roc_auc_score, accuracy_score\n",
    "\n",
    "from folium import plugins\n",
    "from folium.plugins import HeatMap\n",
    "from IPython.display import display"
   ]
  },
  {
   "cell_type": "markdown",
   "metadata": {},
   "source": [
    "Load tweets from csv file"
   ]
  },
  {
   "cell_type": "code",
   "execution_count": 105,
   "metadata": {},
   "outputs": [],
   "source": [
    "df = pd.read_csv(\"agaton_leyte.csv\", encoding='latin-1')"
   ]
  },
  {
   "cell_type": "markdown",
   "metadata": {},
   "source": [
    "Extract latitude and longitude from the coordinates column."
   ]
  },
  {
   "cell_type": "code",
   "execution_count": 106,
   "metadata": {},
   "outputs": [],
   "source": [
    "df['coordinates'] = df['coordinates'].str.replace(\"{'longitude':\", \"\",regex=True)\n",
    "df['coordinates'] = df['coordinates'].str.replace(\", 'latitude':\", \"\")\n",
    "df['coordinates'] = df['coordinates'].str.replace(\"}\", \"\", regex=True)\n",
    "df['Longitude'] = df['coordinates'].str.split(' ', expand = True)[1]\n",
    "df['Latitude'] = df['coordinates'].str.split(' ', expand = True)[2]"
   ]
  },
  {
   "cell_type": "markdown",
   "metadata": {},
   "source": [
    "Counts tweets in each rating"
   ]
  },
  {
   "cell_type": "code",
   "execution_count": 107,
   "metadata": {},
   "outputs": [
    {
     "data": {
      "text/plain": [
       "0    59\n",
       "1    21\n",
       "2    20\n",
       "Name: rating, dtype: int64"
      ]
     },
     "execution_count": 107,
     "metadata": {},
     "output_type": "execute_result"
    }
   ],
   "source": [
    "df['rating'].value_counts()"
   ]
  },
  {
   "cell_type": "markdown",
   "metadata": {},
   "source": [
    "Split data into training data and testing data"
   ]
  },
  {
   "cell_type": "code",
   "execution_count": 108,
   "metadata": {},
   "outputs": [],
   "source": [
    "X = df['content']\n",
    "Y = df['rating']\n",
    "\n",
    "X_train, X_test, Y_train, Y_test = train_test_split(X, Y, random_state=42, test_size=0.50)"
   ]
  },
  {
   "cell_type": "markdown",
   "metadata": {},
   "source": [
    "Instantiate vectorizer and fit on the training data"
   ]
  },
  {
   "cell_type": "code",
   "execution_count": 109,
   "metadata": {},
   "outputs": [
    {
     "name": "stdout",
     "output_type": "stream",
     "text": [
      "(50, 1531)\n",
      "(50, 1531)\n"
     ]
    }
   ],
   "source": [
    "# instantiate tfidfvectorizer\n",
    "vect = TfidfVectorizer(analyzer = \"word\", ngram_range=(1, 2))\n",
    "\n",
    "# fit on the training data, transform training and test data\n",
    "train_data = vect.fit_transform(X_train)\n",
    "test_data = vect.transform(X_test)\n",
    "train_data = train_data.toarray()\n",
    "\n",
    "print(train_data.shape)\n",
    "print(test_data.shape)"
   ]
  },
  {
   "cell_type": "markdown",
   "metadata": {},
   "source": [
    "### Comparing Models"
   ]
  },
  {
   "cell_type": "markdown",
   "metadata": {},
   "source": [
    "Using logistic regression model,"
   ]
  },
  {
   "cell_type": "code",
   "execution_count": 110,
   "metadata": {},
   "outputs": [
    {
     "name": "stdout",
     "output_type": "stream",
     "text": [
      "Accuracy score (training): 0.820\n",
      "Accuracy score (testing): 0.600\n",
      "[0 0 0 0 0 0 0 0 0 0 0 0 0 0 0 0 0 0 0 0 0 0 0 0 0 0 0 0 0 0 0 0 0 0 0 0 0\n",
      " 0 0 0 0 0 0 0 0 0 0 0 0 0]\n"
     ]
    }
   ],
   "source": [
    "# Logistic Regression model\n",
    "lr = LogisticRegression()\n",
    "\n",
    "lr.fit(train_data, Y_train)\n",
    "\n",
    "lr.fit(train_data, Y_train)\n",
    "print(\"Accuracy score (training): {0:.3f}\".format(lr.score(train_data, Y_train)))\n",
    "\n",
    "# accuracy score of model\n",
    "print(\"Accuracy score (testing): {0:.3f}\".format(lr.score(test_data, Y_test)))\n",
    "\n",
    "# print predictions in test data\n",
    "lr_pred = lr.predict(test_data)\n",
    "print(lr_pred)"
   ]
  },
  {
   "cell_type": "markdown",
   "metadata": {},
   "source": [
    "Using Gradient Boosting Classifier model,"
   ]
  },
  {
   "cell_type": "code",
   "execution_count": 111,
   "metadata": {},
   "outputs": [
    {
     "name": "stdout",
     "output_type": "stream",
     "text": [
      "Accuracy score (training): 1.000\n",
      "Accuracy score (testing): 0.700\n",
      "[0 0 0 0 1 2 0 0 0 0 2 0 1 0 0 2 1 1 2 2 2 0 1 0 0 1 0 0 0 1 2 2 2 0 2 0 0\n",
      " 0 0 0 0 0 0 0 0 0 0 0 0 0]\n"
     ]
    }
   ],
   "source": [
    "# Gradient Boosting Classifier model\n",
    "gb = GradientBoostingClassifier()\n",
    "\n",
    "gb.fit(train_data, Y_train)\n",
    "print(\"Accuracy score (training): {0:.3f}\".format(gb.score(train_data, Y_train)))\n",
    "\n",
    "# accuracy score of model\n",
    "print(\"Accuracy score (testing): {0:.3f}\".format(gb.score(test_data, Y_test)))\n",
    "\n",
    "#print predictions in test data\n",
    "gb_pred = gb.predict(test_data)\n",
    "print(gb_pred)"
   ]
  },
  {
   "cell_type": "markdown",
   "metadata": {},
   "source": [
    "Get the accuracy and ROC AUC score of both models"
   ]
  },
  {
   "cell_type": "code",
   "execution_count": 112,
   "metadata": {},
   "outputs": [
    {
     "name": "stdout",
     "output_type": "stream",
     "text": [
      "Accuracy score: 0.7\n",
      "ROC AUC score: 0.7953703703703704\n"
     ]
    }
   ],
   "source": [
    "print(f\"Accuracy score: {accuracy_score(Y_test, gb_pred)}\")\n",
    "print(f\"ROC AUC score: {roc_auc_score(Y_test, gb.predict_proba(test_data), multi_class = 'ovo')}\")"
   ]
  },
  {
   "cell_type": "code",
   "execution_count": 113,
   "metadata": {},
   "outputs": [
    {
     "name": "stdout",
     "output_type": "stream",
     "text": [
      "Accuracy score: 0.6\n",
      "ROC AUC score: 0.8700231481481482\n"
     ]
    }
   ],
   "source": [
    "print(f\"Accuracy score: {accuracy_score(Y_test, lr_pred)}\")\n",
    "print(f\"ROC AUC score: {roc_auc_score(Y_test, lr.predict_proba(test_data), multi_class = 'ovo')}\")"
   ]
  },
  {
   "cell_type": "code",
   "execution_count": 114,
   "metadata": {},
   "outputs": [
    {
     "name": "stdout",
     "output_type": "stream",
     "text": [
      "0     27\n",
      "10     6\n",
      "2      4\n",
      "9      4\n",
      "4      3\n",
      "5      2\n",
      "6      2\n",
      "1      2\n",
      "Name: new_score, dtype: int64\n"
     ]
    }
   ],
   "source": [
    "print(wrong_pred['new_score'].value_counts())"
   ]
  },
  {
   "cell_type": "markdown",
   "metadata": {},
   "source": [
    "Choose the best model and save the predictions in wrongpred.csv. Gradient Boosting Classifier was chosen because of its high accuracy and sufficient ROC AUC score."
   ]
  },
  {
   "cell_type": "code",
   "execution_count": 115,
   "metadata": {},
   "outputs": [],
   "source": [
    "# save predictions in csv file\n",
    "wrong_pred = pd.DataFrame(X_test, columns =['content'])\n",
    "\n",
    "wrong_pred.loc[:, 'coordinates'] = df['coordinates']\n",
    "wrong_pred.loc[:, 'Latitude'] = df['Latitude']\n",
    "wrong_pred.loc[:, 'Longitude'] = df['Longitude']\n",
    "wrong_pred.loc[:, 'actual'] = Y_test\n",
    "wrong_pred.loc[:, 'predicted'] = gb_pred\n",
    "wrong_pred.loc[:, 'new_score'] = wrong_pred['actual'] + (4* wrong_pred['predicted'])\n",
    "wrong_pred.head()\n",
    "\n",
    "wrong_pred.to_csv(\"wrongpred.csv\")"
   ]
  },
  {
   "cell_type": "markdown",
   "metadata": {},
   "source": [
    "Extract tweets with rank = 2"
   ]
  },
  {
   "cell_type": "code",
   "execution_count": 116,
   "metadata": {},
   "outputs": [
    {
     "data": {
      "text/html": [
       "<div>\n",
       "<style scoped>\n",
       "    .dataframe tbody tr th:only-of-type {\n",
       "        vertical-align: middle;\n",
       "    }\n",
       "\n",
       "    .dataframe tbody tr th {\n",
       "        vertical-align: top;\n",
       "    }\n",
       "\n",
       "    .dataframe thead th {\n",
       "        text-align: right;\n",
       "    }\n",
       "</style>\n",
       "<table border=\"1\" class=\"dataframe\">\n",
       "  <thead>\n",
       "    <tr style=\"text-align: right;\">\n",
       "      <th></th>\n",
       "      <th>Latitude</th>\n",
       "      <th>Longitude</th>\n",
       "    </tr>\n",
       "  </thead>\n",
       "  <tbody>\n",
       "    <tr>\n",
       "      <th>39</th>\n",
       "      <td>10.5470262</td>\n",
       "      <td>124.7434968</td>\n",
       "    </tr>\n",
       "    <tr>\n",
       "      <th>18</th>\n",
       "      <td>10.7922629</td>\n",
       "      <td>124.8438494</td>\n",
       "    </tr>\n",
       "    <tr>\n",
       "      <th>4</th>\n",
       "      <td>10.5470262</td>\n",
       "      <td>124.7434968</td>\n",
       "    </tr>\n",
       "    <tr>\n",
       "      <th>12</th>\n",
       "      <td>10.5470262</td>\n",
       "      <td>124.7434968</td>\n",
       "    </tr>\n",
       "    <tr>\n",
       "      <th>31</th>\n",
       "      <td>10.5470262</td>\n",
       "      <td>124.7434968</td>\n",
       "    </tr>\n",
       "  </tbody>\n",
       "</table>\n",
       "</div>"
      ],
      "text/plain": [
       "      Latitude    Longitude\n",
       "39  10.5470262  124.7434968\n",
       "18  10.7922629  124.8438494\n",
       "4   10.5470262  124.7434968\n",
       "12  10.5470262  124.7434968\n",
       "31  10.5470262  124.7434968"
      ]
     },
     "execution_count": 116,
     "metadata": {},
     "output_type": "execute_result"
    }
   ],
   "source": [
    "df_locs = pd.DataFrame(columns = ['Latitude', 'Longitude'])\n",
    "df_locs['Latitude'] = wrong_pred.loc[wrong_pred['predicted'] == 2, 'Latitude']\n",
    "df_locs['Longitude'] = wrong_pred.loc[wrong_pred['predicted'] == 2, 'Longitude']\n",
    "\n",
    "df_locs.head()"
   ]
  },
  {
   "cell_type": "markdown",
   "metadata": {},
   "source": [
    "Plot the tweets in the geographical heatmap"
   ]
  },
  {
   "cell_type": "code",
   "execution_count": 117,
   "metadata": {},
   "outputs": [
    {
     "data": {
      "text/html": [
       "<div style=\"width:100%;\"><div style=\"position:relative;width:100%;height:0;padding-bottom:60%;\"><span style=\"color:#565656\">Make this Notebook Trusted to load map: File -> Trust Notebook</span><iframe srcdoc=\"&lt;!DOCTYPE html&gt;\n",
       "&lt;head&gt;    \n",
       "    &lt;meta http-equiv=&quot;content-type&quot; content=&quot;text/html; charset=UTF-8&quot; /&gt;\n",
       "    \n",
       "        &lt;script&gt;\n",
       "            L_NO_TOUCH = false;\n",
       "            L_DISABLE_3D = false;\n",
       "        &lt;/script&gt;\n",
       "    \n",
       "    &lt;style&gt;html, body {width: 100%;height: 100%;margin: 0;padding: 0;}&lt;/style&gt;\n",
       "    &lt;style&gt;#map {position:absolute;top:0;bottom:0;right:0;left:0;}&lt;/style&gt;\n",
       "    &lt;script src=&quot;https://cdn.jsdelivr.net/npm/leaflet@1.6.0/dist/leaflet.js&quot;&gt;&lt;/script&gt;\n",
       "    &lt;script src=&quot;https://code.jquery.com/jquery-1.12.4.min.js&quot;&gt;&lt;/script&gt;\n",
       "    &lt;script src=&quot;https://maxcdn.bootstrapcdn.com/bootstrap/3.2.0/js/bootstrap.min.js&quot;&gt;&lt;/script&gt;\n",
       "    &lt;script src=&quot;https://cdnjs.cloudflare.com/ajax/libs/Leaflet.awesome-markers/2.0.2/leaflet.awesome-markers.js&quot;&gt;&lt;/script&gt;\n",
       "    &lt;link rel=&quot;stylesheet&quot; href=&quot;https://cdn.jsdelivr.net/npm/leaflet@1.6.0/dist/leaflet.css&quot;/&gt;\n",
       "    &lt;link rel=&quot;stylesheet&quot; href=&quot;https://maxcdn.bootstrapcdn.com/bootstrap/3.2.0/css/bootstrap.min.css&quot;/&gt;\n",
       "    &lt;link rel=&quot;stylesheet&quot; href=&quot;https://maxcdn.bootstrapcdn.com/bootstrap/3.2.0/css/bootstrap-theme.min.css&quot;/&gt;\n",
       "    &lt;link rel=&quot;stylesheet&quot; href=&quot;https://maxcdn.bootstrapcdn.com/font-awesome/4.6.3/css/font-awesome.min.css&quot;/&gt;\n",
       "    &lt;link rel=&quot;stylesheet&quot; href=&quot;https://cdnjs.cloudflare.com/ajax/libs/Leaflet.awesome-markers/2.0.2/leaflet.awesome-markers.css&quot;/&gt;\n",
       "    &lt;link rel=&quot;stylesheet&quot; href=&quot;https://cdn.jsdelivr.net/gh/python-visualization/folium/folium/templates/leaflet.awesome.rotate.min.css&quot;/&gt;\n",
       "    \n",
       "            &lt;meta name=&quot;viewport&quot; content=&quot;width=device-width,\n",
       "                initial-scale=1.0, maximum-scale=1.0, user-scalable=no&quot; /&gt;\n",
       "            &lt;style&gt;\n",
       "                #map_d4b2a2adfaf5928b0c668e4a14b6ea58 {\n",
       "                    position: relative;\n",
       "                    width: 100.0%;\n",
       "                    height: 100.0%;\n",
       "                    left: 0.0%;\n",
       "                    top: 0.0%;\n",
       "                }\n",
       "            &lt;/style&gt;\n",
       "        \n",
       "    &lt;script src=&quot;https://cdn.jsdelivr.net/gh/python-visualization/folium@master/folium/templates/leaflet_heat.min.js&quot;&gt;&lt;/script&gt;\n",
       "&lt;/head&gt;\n",
       "&lt;body&gt;    \n",
       "    \n",
       "            &lt;div class=&quot;folium-map&quot; id=&quot;map_d4b2a2adfaf5928b0c668e4a14b6ea58&quot; &gt;&lt;/div&gt;\n",
       "        \n",
       "&lt;/body&gt;\n",
       "&lt;script&gt;    \n",
       "    \n",
       "            var map_d4b2a2adfaf5928b0c668e4a14b6ea58 = L.map(\n",
       "                &quot;map_d4b2a2adfaf5928b0c668e4a14b6ea58&quot;,\n",
       "                {\n",
       "                    center: [10.847622263721211, 124.88887070186077],\n",
       "                    crs: L.CRS.EPSG3857,\n",
       "                    zoom: 8,\n",
       "                    zoomControl: true,\n",
       "                    preferCanvas: false,\n",
       "                }\n",
       "            );\n",
       "\n",
       "            \n",
       "\n",
       "        \n",
       "    \n",
       "            var tile_layer_9640a15b4b7785593eb88819e1de4303 = L.tileLayer(\n",
       "                &quot;https://{s}.tile.openstreetmap.org/{z}/{x}/{y}.png&quot;,\n",
       "                {&quot;attribution&quot;: &quot;Data by \\u0026copy; \\u003ca href=\\&quot;http://openstreetmap.org\\&quot;\\u003eOpenStreetMap\\u003c/a\\u003e, under \\u003ca href=\\&quot;http://www.openstreetmap.org/copyright\\&quot;\\u003eODbL\\u003c/a\\u003e.&quot;, &quot;detectRetina&quot;: false, &quot;maxNativeZoom&quot;: 18, &quot;maxZoom&quot;: 18, &quot;minZoom&quot;: 0, &quot;noWrap&quot;: false, &quot;opacity&quot;: 1, &quot;subdomains&quot;: &quot;abc&quot;, &quot;tms&quot;: false}\n",
       "            ).addTo(map_d4b2a2adfaf5928b0c668e4a14b6ea58);\n",
       "        \n",
       "    \n",
       "            var heat_map_28c10b7d58a679c9c1b70597866c3635 = L.heatLayer(\n",
       "                [[10.5470262, 124.7434968], [10.7922629, 124.8438494], [10.5470262, 124.7434968], [10.5470262, 124.7434968], [10.5470262, 124.7434968], [10.9533981, 124.4758848], [11.1382777, 124.8789588], [10.5470262, 124.7434968], [11.2329, 124.988], [10.9533981, 124.4758848]],\n",
       "                {&quot;blur&quot;: 15, &quot;maxZoom&quot;: 18, &quot;minOpacity&quot;: 0.5, &quot;radius&quot;: 15}\n",
       "            ).addTo(map_d4b2a2adfaf5928b0c668e4a14b6ea58);\n",
       "        \n",
       "&lt;/script&gt;\" style=\"position:absolute;width:100%;height:100%;left:0;top:0;border:none !important;\" allowfullscreen webkitallowfullscreen mozallowfullscreen></iframe></div></div>"
      ],
      "text/plain": [
       "<folium.folium.Map at 0x1d723687370>"
      ]
     },
     "execution_count": 117,
     "metadata": {},
     "output_type": "execute_result"
    }
   ],
   "source": [
    "fol_map = folium.Map(location=[10.847622263721211, 124.88887070186077], zoom_start=8)\n",
    "markers = df_locs[['Latitude','Longitude']].values\n",
    "fol_map.add_child(plugins.HeatMap(markers, radius=15))\n",
    "fol_map"
   ]
  }
 ],
 "metadata": {
  "interpreter": {
   "hash": "4d7dce87e86efda519c1b33957d9a5d23ca41053c61955a0a394f9d9cd651601"
  },
  "kernelspec": {
   "display_name": "Python 3.9.7 64-bit (system)",
   "language": "python",
   "name": "python3"
  },
  "language_info": {
   "codemirror_mode": {
    "name": "ipython",
    "version": 3
   },
   "file_extension": ".py",
   "mimetype": "text/x-python",
   "name": "python",
   "nbconvert_exporter": "python",
   "pygments_lexer": "ipython3",
   "version": "3.9.7"
  },
  "orig_nbformat": 4
 },
 "nbformat": 4,
 "nbformat_minor": 2
}
