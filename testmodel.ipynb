{
 "cells": [
  {
   "cell_type": "code",
   "execution_count": 178,
   "metadata": {},
   "outputs": [],
   "source": [
    "import pandas as pd\n",
    "import numpy as np\n",
    "import seaborn as sns\n",
    "import matplotlib as plt\n",
    "import folium\n",
    "import collections\n",
    "\n",
    "from sklearn.model_selection import train_test_split\n",
    "from sklearn.feature_extraction.text import CountVectorizer\n",
    "from sklearn.linear_model import LogisticRegression\n",
    "from sklearn.ensemble import GradientBoostingClassifier\n",
    "from sklearn.metrics import roc_auc_score, accuracy_score, confusion_matrix, ConfusionMatrixDisplay\n",
    "\n",
    "from folium import plugins\n",
    "from folium.plugins import HeatMap\n",
    "from IPython.display import display\n",
    "\n",
    "from collections import Counter\n",
    "from imblearn.over_sampling import SMOTE"
   ]
  },
  {
   "cell_type": "markdown",
   "metadata": {},
   "source": [
    "# Preprocessing"
   ]
  },
  {
   "cell_type": "markdown",
   "metadata": {},
   "source": [
    "### Load tweets from csv file"
   ]
  },
  {
   "cell_type": "code",
   "execution_count": 179,
   "metadata": {},
   "outputs": [],
   "source": [
    "df = pd.read_csv(\"agaton_leyte.csv\", encoding='latin-1')"
   ]
  },
  {
   "cell_type": "markdown",
   "metadata": {},
   "source": [
    "### Extract latitude and longitude from the coordinates column."
   ]
  },
  {
   "cell_type": "code",
   "execution_count": 180,
   "metadata": {},
   "outputs": [],
   "source": [
    "df['coordinates'] = df['coordinates'].str.replace(\"{'longitude':\", \"\",regex=True)\n",
    "df['coordinates'] = df['coordinates'].str.replace(\", 'latitude':\", \"\")\n",
    "df['coordinates'] = df['coordinates'].str.replace(\"}\", \"\", regex=True)\n",
    "df['Longitude'] = df['coordinates'].str.split(' ', expand = True)[1]\n",
    "df['Latitude'] = df['coordinates'].str.split(' ', expand = True)[2]"
   ]
  },
  {
   "cell_type": "markdown",
   "metadata": {},
   "source": [
    "### Counts tweets in each rating"
   ]
  },
  {
   "cell_type": "code",
   "execution_count": 181,
   "metadata": {},
   "outputs": [
    {
     "data": {
      "text/plain": [
       "0    59\n",
       "1    21\n",
       "2    20\n",
       "Name: rating, dtype: int64"
      ]
     },
     "execution_count": 181,
     "metadata": {},
     "output_type": "execute_result"
    }
   ],
   "source": [
    "df['rating'].value_counts()"
   ]
  },
  {
   "cell_type": "markdown",
   "metadata": {},
   "source": [
    "### Split data into training data and testing data"
   ]
  },
  {
   "cell_type": "code",
   "execution_count": 182,
   "metadata": {},
   "outputs": [],
   "source": [
    "X = df['content']\n",
    "Y = df['rating']\n",
    "\n",
    "X_train, X_test, Y_train, Y_test = train_test_split(X, Y, random_state=42, test_size=0.50)"
   ]
  },
  {
   "cell_type": "markdown",
   "metadata": {},
   "source": [
    "### Instantiate vectorizer and fit on the training data"
   ]
  },
  {
   "cell_type": "code",
   "execution_count": 183,
   "metadata": {},
   "outputs": [
    {
     "name": "stdout",
     "output_type": "stream",
     "text": [
      "(50, 1531)\n",
      "(50, 1531)\n"
     ]
    }
   ],
   "source": [
    "# instantiate countfvectorizer\n",
    "vect = CountVectorizer(analyzer = \"word\", ngram_range=(1, 2))\n",
    "\n",
    "# fit on the training data, transform training and test data\n",
    "train_data = vect.fit_transform(X_train)\n",
    "test_data = vect.transform(X_test)\n",
    "train_data = train_data.toarray()\n",
    "\n",
    "print(train_data.shape)\n",
    "print(test_data.shape)"
   ]
  },
  {
   "cell_type": "markdown",
   "metadata": {},
   "source": [
    "### Create separate training data that uses SMOTE technique"
   ]
  },
  {
   "cell_type": "code",
   "execution_count": 184,
   "metadata": {},
   "outputs": [
    {
     "name": "stdout",
     "output_type": "stream",
     "text": [
      "Before SMOTE: Counter({0: 29, 1: 13, 2: 8})\n",
      "After SMOTE: Counter({0: 29, 1: 13, 2: 13})\n"
     ]
    }
   ],
   "source": [
    "counter = Counter(Y_train)\n",
    "print('Before SMOTE:', counter)\n",
    "strategy = {2:13}\n",
    "smt = SMOTE(sampling_strategy=strategy)\n",
    "train_data_sm, Y_train_sm = smt.fit_resample(train_data, Y_train)\n",
    "counter2 = Counter(Y_train_sm)\n",
    "print('After SMOTE:', counter2)"
   ]
  },
  {
   "cell_type": "markdown",
   "metadata": {},
   "source": [
    "# Comparing Models"
   ]
  },
  {
   "cell_type": "markdown",
   "metadata": {},
   "source": [
    "### Using logistic regression model,"
   ]
  },
  {
   "cell_type": "code",
   "execution_count": 185,
   "metadata": {},
   "outputs": [
    {
     "name": "stdout",
     "output_type": "stream",
     "text": [
      "Accuracy score (training): 1.000\n",
      "Accuracy score (testing): 0.760\n",
      "[0 0 0 0 0 2 0 0 0 0 0 0 0 0 0 0 1 0 2 0 1 0 0 0 0 2 0 0 0 0 0 2 0 0 2 0 1\n",
      " 0 0 0 0 0 0 0 0 0 0 0 0 0]\n"
     ]
    }
   ],
   "source": [
    "# Logistic Regression model\n",
    "lr = LogisticRegression()\n",
    "\n",
    "lr.fit(train_data, Y_train)\n",
    "\n",
    "lr.fit(train_data, Y_train)\n",
    "print(\"Accuracy score (training): {0:.3f}\".format(lr.score(train_data, Y_train)))\n",
    "\n",
    "# accuracy score of model\n",
    "print(\"Accuracy score (testing): {0:.3f}\".format(lr.score(test_data, Y_test)))\n",
    "\n",
    "# print predictions in test data\n",
    "lr_pred = lr.predict(test_data)\n",
    "print(lr_pred)"
   ]
  },
  {
   "cell_type": "markdown",
   "metadata": {},
   "source": [
    "### Using logistic regression model (w/ SMOTE),"
   ]
  },
  {
   "cell_type": "code",
   "execution_count": 186,
   "metadata": {},
   "outputs": [
    {
     "name": "stdout",
     "output_type": "stream",
     "text": [
      "Accuracy score (training): 1.000\n",
      "Accuracy score (testing): 0.680\n",
      "[2 0 0 0 0 2 2 2 2 2 2 0 0 0 0 2 1 0 2 2 1 0 0 0 2 2 0 1 0 0 2 2 2 2 2 0 1\n",
      " 0 0 0 0 0 2 2 0 0 0 0 0 0]\n"
     ]
    }
   ],
   "source": [
    "# Logistic Regression model\n",
    "lr_sm = LogisticRegression()\n",
    "\n",
    "lr_sm.fit(train_data_sm, Y_train_sm)\n",
    "\n",
    "lr_sm.fit(train_data_sm, Y_train_sm)\n",
    "print(\"Accuracy score (training): {0:.3f}\".format(lr_sm.score(train_data_sm, Y_train_sm)))\n",
    "\n",
    "# accuracy score of model\n",
    "print(\"Accuracy score (testing): {0:.3f}\".format(lr_sm.score(test_data, Y_test)))\n",
    "\n",
    "# print predictions in test data\n",
    "lr_pred_sm = lr_sm.predict(test_data)\n",
    "print(lr_pred_sm)"
   ]
  },
  {
   "cell_type": "markdown",
   "metadata": {},
   "source": [
    "### Using Gradient Boosting Classifier model,"
   ]
  },
  {
   "cell_type": "code",
   "execution_count": 187,
   "metadata": {},
   "outputs": [
    {
     "name": "stdout",
     "output_type": "stream",
     "text": [
      "Accuracy score (training): 1.000\n",
      "Accuracy score (testing): 0.660\n",
      "[0 0 0 0 0 2 0 0 0 0 0 0 0 0 0 0 0 0 0 0 0 0 0 0 0 2 0 0 0 0 0 2 0 0 0 0 0\n",
      " 0 0 0 0 0 0 0 0 0 0 0 0 0]\n"
     ]
    }
   ],
   "source": [
    "# Gradient Boosting Classifier model\n",
    "gb = GradientBoostingClassifier()\n",
    "\n",
    "gb.fit(train_data, Y_train)\n",
    "print(\"Accuracy score (training): {0:.3f}\".format(gb.score(train_data, Y_train)))\n",
    "\n",
    "# accuracy score of model\n",
    "print(\"Accuracy score (testing): {0:.3f}\".format(gb.score(test_data, Y_test)))\n",
    "\n",
    "#print predictions in test data\n",
    "gb_pred = gb.predict(test_data)\n",
    "print(gb_pred)"
   ]
  },
  {
   "cell_type": "markdown",
   "metadata": {},
   "source": [
    "### Using Gradient Boosting Classifier model (w/ SMOTE),"
   ]
  },
  {
   "cell_type": "code",
   "execution_count": 188,
   "metadata": {},
   "outputs": [
    {
     "name": "stdout",
     "output_type": "stream",
     "text": [
      "Accuracy score (training): 1.000\n",
      "Accuracy score (testing): 0.620\n",
      "[0 0 0 0 0 2 2 2 2 2 2 0 0 0 0 2 0 0 0 0 1 0 1 0 2 2 0 0 0 0 2 2 0 2 0 0 0\n",
      " 0 0 0 0 0 2 2 0 0 0 0 0 0]\n"
     ]
    }
   ],
   "source": [
    "# Gradient Boosting Classifier model\n",
    "gb_sm = GradientBoostingClassifier()\n",
    "\n",
    "gb_sm.fit(train_data_sm, Y_train_sm)\n",
    "print(\"Accuracy score (training): {0:.3f}\".format(gb_sm.score(train_data_sm, Y_train_sm)))\n",
    "\n",
    "# accuracy score of model\n",
    "print(\"Accuracy score (testing): {0:.3f}\".format(gb_sm.score(test_data, Y_test)))\n",
    "\n",
    "#print predictions in test data\n",
    "gb_pred_sm = gb_sm.predict(test_data)\n",
    "print(gb_pred_sm)"
   ]
  },
  {
   "cell_type": "markdown",
   "metadata": {},
   "source": [
    "### Get the accuracy and ROC AUC score of both models"
   ]
  },
  {
   "cell_type": "code",
   "execution_count": 189,
   "metadata": {},
   "outputs": [
    {
     "name": "stdout",
     "output_type": "stream",
     "text": [
      "--Gradient Boosting--\n",
      "Accuracy score: 0.66\n",
      "ROC AUC score: 0.843110902255639\n",
      "\n",
      "--Gradient Boosting w/ SMOTE--\n",
      "Accuracy score: 0.62\n",
      "ROC AUC score: 0.7308458646616541\n"
     ]
    }
   ],
   "source": [
    "print('--Gradient Boosting--')\n",
    "print(f\"Accuracy score: {accuracy_score(Y_test, gb_pred)}\")\n",
    "print(f\"ROC AUC score: {roc_auc_score(Y_test, gb.predict_proba(test_data), multi_class = 'ovr')}\")\n",
    "print('\\n--Gradient Boosting w/ SMOTE--')\n",
    "print(f\"Accuracy score: {accuracy_score(Y_test, gb_pred_sm)}\")\n",
    "print(f\"ROC AUC score: {roc_auc_score(Y_test, gb_sm.predict_proba(test_data), multi_class = 'ovr')}\")"
   ]
  },
  {
   "cell_type": "code",
   "execution_count": 190,
   "metadata": {},
   "outputs": [
    {
     "name": "stdout",
     "output_type": "stream",
     "text": [
      "--Logistic Regression--\n",
      "Accuracy score: 0.76\n",
      "ROC AUC score: 0.878874269005848\n",
      "\n",
      "--Logistic Regression w/ SMOTE--\n",
      "Accuracy score: 0.68\n",
      "ROC AUC score: 0.7923767752715122\n"
     ]
    }
   ],
   "source": [
    "print('--Logistic Regression--')\n",
    "print(f\"Accuracy score: {accuracy_score(Y_test, lr_pred)}\")\n",
    "print(f\"ROC AUC score: {roc_auc_score(Y_test, lr.predict_proba(test_data), multi_class = 'ovr')}\")\n",
    "print('\\n--Logistic Regression w/ SMOTE--')\n",
    "print(f\"Accuracy score: {accuracy_score(Y_test, lr_pred_sm)}\")\n",
    "print(f\"ROC AUC score: {roc_auc_score(Y_test, lr_sm.predict_proba(test_data), multi_class = 'ovr')}\")"
   ]
  },
  {
   "cell_type": "markdown",
   "metadata": {},
   "source": [
    "### Choose the best model and save the predictions in wrongpred.csv. "
   ]
  },
  {
   "cell_type": "markdown",
   "metadata": {},
   "source": [
    "We can see that using logistic regression, we have an accuracy of $0.6 + 0.06 + 0.1 = 0.76$."
   ]
  },
  {
   "cell_type": "code",
   "execution_count": 191,
   "metadata": {},
   "outputs": [
    {
     "data": {
      "text/plain": [
       "<sklearn.metrics._plot.confusion_matrix.ConfusionMatrixDisplay at 0x1f6cb0d9fc0>"
      ]
     },
     "execution_count": 191,
     "metadata": {},
     "output_type": "execute_result"
    },
    {
     "data": {
      "image/png": "[encoded data removed]",
      "text/plain": [
       "<Figure size 432x288 with 2 Axes>"
      ]
     },
     "metadata": {
      "needs_background": "light"
     },
     "output_type": "display_data"
    }
   ],
   "source": [
    "lr_cm = confusion_matrix(Y_test, lr_pred, labels=[0,1,2], normalize='all')\n",
    "disp = ConfusionMatrixDisplay(confusion_matrix=lr_cm,display_labels=[0,1,2])\n",
    "disp.plot()"
   ]
  },
  {
   "cell_type": "markdown",
   "metadata": {},
   "source": [
    "We can see that using logistic regression with SMOTE, we have an accuracy of $0.48 + 0.06 + 0.18 = 0.72$."
   ]
  },
  {
   "cell_type": "code",
   "execution_count": 192,
   "metadata": {},
   "outputs": [
    {
     "data": {
      "text/plain": [
       "<sklearn.metrics._plot.confusion_matrix.ConfusionMatrixDisplay at 0x1f6cb43e1d0>"
      ]
     },
     "execution_count": 192,
     "metadata": {},
     "output_type": "execute_result"
    },
    {
     "data": {
      "image/png": "[encoded data removed]",
      "text/plain": [
       "<Figure size 432x288 with 2 Axes>"
      ]
     },
     "metadata": {
      "needs_background": "light"
     },
     "output_type": "display_data"
    }
   ],
   "source": [
    "lr_sm_cm = confusion_matrix(Y_test, lr_pred_sm, labels=[0,1,2], normalize='all')\n",
    "disp = ConfusionMatrixDisplay(confusion_matrix=lr_sm_cm,display_labels=[0,1,2])\n",
    "disp.plot()"
   ]
  },
  {
   "cell_type": "markdown",
   "metadata": {},
   "source": [
    "We can see that using gradient boosting, we have an accuracy of $0.6 + 0.1 = 0.61$."
   ]
  },
  {
   "cell_type": "code",
   "execution_count": 193,
   "metadata": {},
   "outputs": [
    {
     "data": {
      "text/plain": [
       "<sklearn.metrics._plot.confusion_matrix.ConfusionMatrixDisplay at 0x1f6cb460df0>"
      ]
     },
     "execution_count": 193,
     "metadata": {},
     "output_type": "execute_result"
    },
    {
     "data": {
      "image/png": "[encoded data removed]",
      "text/plain": [
       "<Figure size 432x288 with 2 Axes>"
      ]
     },
     "metadata": {
      "needs_background": "light"
     },
     "output_type": "display_data"
    }
   ],
   "source": [
    "gb_cm = confusion_matrix(Y_test, gb_pred, labels=[0,1,2], normalize='all')\n",
    "disp = ConfusionMatrixDisplay(confusion_matrix=gb_cm,display_labels=[0,1,2])\n",
    "disp.plot()"
   ]
  },
  {
   "cell_type": "markdown",
   "metadata": {},
   "source": [
    "We can see that using gradient boosting with SMOTE, we have an accuracy of $0.48 + 0.00 + 0.12 = 0.60$."
   ]
  },
  {
   "cell_type": "code",
   "execution_count": 194,
   "metadata": {},
   "outputs": [
    {
     "data": {
      "text/plain": [
       "<sklearn.metrics._plot.confusion_matrix.ConfusionMatrixDisplay at 0x1f6cb5a2830>"
      ]
     },
     "execution_count": 194,
     "metadata": {},
     "output_type": "execute_result"
    },
    {
     "data": {
      "image/png": "[encoded data removed]",
      "text/plain": [
       "<Figure size 432x288 with 2 Axes>"
      ]
     },
     "metadata": {
      "needs_background": "light"
     },
     "output_type": "display_data"
    }
   ],
   "source": [
    "gb_sm_cm = confusion_matrix(Y_test, gb_pred_sm, labels=[0,1,2], normalize='all')\n",
    "disp = ConfusionMatrixDisplay(confusion_matrix=gb_sm_cm,display_labels=[0,1,2])\n",
    "disp.plot()"
   ]
  },
  {
   "cell_type": "markdown",
   "metadata": {},
   "source": [
    "# Chosen Model"
   ]
  },
  {
   "cell_type": "markdown",
   "metadata": {},
   "source": [
    "Logistic Regression with SMOTE was chosen because of its sufficient accuracy and high ROC AUC score. Despite having better accuracy and ROC AUC score when using logistic regression alone, it had the highest rank 2 wrong prediction (0.14), but correctly predicted all the rank 0 cases. \n",
    "\n",
    "Taking this into account, it would be safer to predict that a rank 0 is rank 1/2 than predict otherwise.  Hence, the model that has the lesser number of predicted rank 2 as rank 0 was chosen. "
   ]
  },
  {
   "cell_type": "code",
   "execution_count": 195,
   "metadata": {},
   "outputs": [],
   "source": [
    "# save predictions in csv file\n",
    "wrong_pred = pd.DataFrame(X_test, columns =['content'])\n",
    "\n",
    "wrong_pred.loc[:, 'coordinates'] = df['coordinates']\n",
    "wrong_pred.loc[:, 'Latitude'] = df['Latitude']\n",
    "wrong_pred.loc[:, 'Longitude'] = df['Longitude']\n",
    "wrong_pred.loc[:, 'actual'] = Y_test\n",
    "wrong_pred.loc[:, 'predicted'] = lr_pred_sm\n",
    "wrong_pred.loc[:, 'new_score'] = wrong_pred['actual'] + (4* wrong_pred['predicted'])\n",
    "wrong_pred.head()\n",
    "\n",
    "wrong_pred.to_csv(\"wrongpred.csv\")"
   ]
  },
  {
   "cell_type": "code",
   "execution_count": 196,
   "metadata": {},
   "outputs": [
    {
     "name": "stdout",
     "output_type": "stream",
     "text": [
      "0     22\n",
      "10     9\n",
      "8      7\n",
      "9      3\n",
      "5      3\n",
      "2      3\n",
      "1      2\n",
      "4      1\n",
      "Name: new_score, dtype: int64\n"
     ]
    }
   ],
   "source": [
    "print(wrong_pred['new_score'].value_counts())"
   ]
  },
  {
   "cell_type": "markdown",
   "metadata": {},
   "source": [
    "### Extract tweets with rank = 2"
   ]
  },
  {
   "cell_type": "code",
   "execution_count": 197,
   "metadata": {},
   "outputs": [
    {
     "data": {
      "text/html": [
       "<div>\n",
       "<style scoped>\n",
       "    .dataframe tbody tr th:only-of-type {\n",
       "        vertical-align: middle;\n",
       "    }\n",
       "\n",
       "    .dataframe tbody tr th {\n",
       "        vertical-align: top;\n",
       "    }\n",
       "\n",
       "    .dataframe thead th {\n",
       "        text-align: right;\n",
       "    }\n",
       "</style>\n",
       "<table border=\"1\" class=\"dataframe\">\n",
       "  <thead>\n",
       "    <tr style=\"text-align: right;\">\n",
       "      <th></th>\n",
       "      <th>Latitude</th>\n",
       "      <th>Longitude</th>\n",
       "    </tr>\n",
       "  </thead>\n",
       "  <tbody>\n",
       "    <tr>\n",
       "      <th>83</th>\n",
       "      <td>10.2035208</td>\n",
       "      <td>123.9086254</td>\n",
       "    </tr>\n",
       "    <tr>\n",
       "      <th>39</th>\n",
       "      <td>10.5470262</td>\n",
       "      <td>124.7434968</td>\n",
       "    </tr>\n",
       "    <tr>\n",
       "      <th>22</th>\n",
       "      <td>10.5470262</td>\n",
       "      <td>124.7434968</td>\n",
       "    </tr>\n",
       "    <tr>\n",
       "      <th>80</th>\n",
       "      <td>10.5470262</td>\n",
       "      <td>124.7434968</td>\n",
       "    </tr>\n",
       "    <tr>\n",
       "      <th>10</th>\n",
       "      <td>10.2594754</td>\n",
       "      <td>123.7647381</td>\n",
       "    </tr>\n",
       "  </tbody>\n",
       "</table>\n",
       "</div>"
      ],
      "text/plain": [
       "      Latitude    Longitude\n",
       "83  10.2035208  123.9086254\n",
       "39  10.5470262  124.7434968\n",
       "22  10.5470262  124.7434968\n",
       "80  10.5470262  124.7434968\n",
       "10  10.2594754  123.7647381"
      ]
     },
     "execution_count": 197,
     "metadata": {},
     "output_type": "execute_result"
    }
   ],
   "source": [
    "df_locs = pd.DataFrame(columns = ['Latitude', 'Longitude'])\n",
    "df_locs['Latitude'] = wrong_pred.loc[wrong_pred['predicted'] == 2, 'Latitude']\n",
    "df_locs['Longitude'] = wrong_pred.loc[wrong_pred['predicted'] == 2, 'Longitude']\n",
    "\n",
    "df_locs.head()"
   ]
  },
  {
   "cell_type": "markdown",
   "metadata": {},
   "source": [
    "### Plot the tweets in the geographical heatmap"
   ]
  },
  {
   "cell_type": "code",
   "execution_count": 198,
   "metadata": {},
   "outputs": [
    {
     "data": {
      "text/html": [
       "<div style=\"width:100%;\"><div style=\"position:relative;width:100%;height:0;padding-bottom:60%;\"><span style=\"color:#565656\">Make this Notebook Trusted to load map: File -> Trust Notebook</span><iframe srcdoc=\"&lt;!DOCTYPE html&gt;\n",
       "&lt;head&gt;    \n",
       "    &lt;meta http-equiv=&quot;content-type&quot; content=&quot;text/html; charset=UTF-8&quot; /&gt;\n",
       "    \n",
       "        &lt;script&gt;\n",
       "            L_NO_TOUCH = false;\n",
       "            L_DISABLE_3D = false;\n",
       "        &lt;/script&gt;\n",
       "    \n",
       "    &lt;style&gt;html, body {width: 100%;height: 100%;margin: 0;padding: 0;}&lt;/style&gt;\n",
       "    &lt;style&gt;#map {position:absolute;top:0;bottom:0;right:0;left:0;}&lt;/style&gt;\n",
       "    &lt;script src=&quot;https://cdn.jsdelivr.net/npm/leaflet@1.6.0/dist/leaflet.js&quot;&gt;&lt;/script&gt;\n",
       "    &lt;script src=&quot;https://code.jquery.com/jquery-1.12.4.min.js&quot;&gt;&lt;/script&gt;\n",
       "    &lt;script src=&quot;https://maxcdn.bootstrapcdn.com/bootstrap/3.2.0/js/bootstrap.min.js&quot;&gt;&lt;/script&gt;\n",
       "    &lt;script src=&quot;https://cdnjs.cloudflare.com/ajax/libs/Leaflet.awesome-markers/2.0.2/leaflet.awesome-markers.js&quot;&gt;&lt;/script&gt;\n",
       "    &lt;link rel=&quot;stylesheet&quot; href=&quot;https://cdn.jsdelivr.net/npm/leaflet@1.6.0/dist/leaflet.css&quot;/&gt;\n",
       "    &lt;link rel=&quot;stylesheet&quot; href=&quot;https://maxcdn.bootstrapcdn.com/bootstrap/3.2.0/css/bootstrap.min.css&quot;/&gt;\n",
       "    &lt;link rel=&quot;stylesheet&quot; href=&quot;https://maxcdn.bootstrapcdn.com/bootstrap/3.2.0/css/bootstrap-theme.min.css&quot;/&gt;\n",
       "    &lt;link rel=&quot;stylesheet&quot; href=&quot;https://maxcdn.bootstrapcdn.com/font-awesome/4.6.3/css/font-awesome.min.css&quot;/&gt;\n",
       "    &lt;link rel=&quot;stylesheet&quot; href=&quot;https://cdnjs.cloudflare.com/ajax/libs/Leaflet.awesome-markers/2.0.2/leaflet.awesome-markers.css&quot;/&gt;\n",
       "    &lt;link rel=&quot;stylesheet&quot; href=&quot;https://cdn.jsdelivr.net/gh/python-visualization/folium/folium/templates/leaflet.awesome.rotate.min.css&quot;/&gt;\n",
       "    \n",
       "            &lt;meta name=&quot;viewport&quot; content=&quot;width=device-width,\n",
       "                initial-scale=1.0, maximum-scale=1.0, user-scalable=no&quot; /&gt;\n",
       "            &lt;style&gt;\n",
       "                #map_246f678f6f3f3394742f110726ce9322 {\n",
       "                    position: relative;\n",
       "                    width: 100.0%;\n",
       "                    height: 100.0%;\n",
       "                    left: 0.0%;\n",
       "                    top: 0.0%;\n",
       "                }\n",
       "            &lt;/style&gt;\n",
       "        \n",
       "    &lt;script src=&quot;https://cdn.jsdelivr.net/gh/python-visualization/folium@master/folium/templates/leaflet_heat.min.js&quot;&gt;&lt;/script&gt;\n",
       "&lt;/head&gt;\n",
       "&lt;body&gt;    \n",
       "    \n",
       "            &lt;div class=&quot;folium-map&quot; id=&quot;map_246f678f6f3f3394742f110726ce9322&quot; &gt;&lt;/div&gt;\n",
       "        \n",
       "&lt;/body&gt;\n",
       "&lt;script&gt;    \n",
       "    \n",
       "            var map_246f678f6f3f3394742f110726ce9322 = L.map(\n",
       "                &quot;map_246f678f6f3f3394742f110726ce9322&quot;,\n",
       "                {\n",
       "                    center: [10.847622263721211, 124.88887070186077],\n",
       "                    crs: L.CRS.EPSG3857,\n",
       "                    zoom: 8,\n",
       "                    zoomControl: true,\n",
       "                    preferCanvas: false,\n",
       "                }\n",
       "            );\n",
       "\n",
       "            \n",
       "\n",
       "        \n",
       "    \n",
       "            var tile_layer_d188aa99ec008855effd90fbd917eece = L.tileLayer(\n",
       "                &quot;https://{s}.tile.openstreetmap.org/{z}/{x}/{y}.png&quot;,\n",
       "                {&quot;attribution&quot;: &quot;Data by \\u0026copy; \\u003ca href=\\&quot;http://openstreetmap.org\\&quot;\\u003eOpenStreetMap\\u003c/a\\u003e, under \\u003ca href=\\&quot;http://www.openstreetmap.org/copyright\\&quot;\\u003eODbL\\u003c/a\\u003e.&quot;, &quot;detectRetina&quot;: false, &quot;maxNativeZoom&quot;: 18, &quot;maxZoom&quot;: 18, &quot;minZoom&quot;: 0, &quot;noWrap&quot;: false, &quot;opacity&quot;: 1, &quot;subdomains&quot;: &quot;abc&quot;, &quot;tms&quot;: false}\n",
       "            ).addTo(map_246f678f6f3f3394742f110726ce9322);\n",
       "        \n",
       "    \n",
       "            var heat_map_defc8c139bec2aecb92e35ddb228308d = L.heatLayer(\n",
       "                [[10.2035208, 123.9086254], [10.5470262, 124.7434968], [10.5470262, 124.7434968], [10.5470262, 124.7434968], [10.2594754, 123.7647381], [10.5470262, 124.7434968], [10.7922629, 124.8438494], [10.5470262, 124.7434968], [10.5470262, 124.7434968], [10.5470262, 124.7434968], [11.1462738, 124.791516], [11.0695902, 124.6700376], [11.1382777, 124.8789588], [10.5470262, 124.7434968], [11.2329, 124.988], [11.1474093, 123.7565237], [10.9533981, 124.4758848], [10.3107867, 123.9114563], [10.294097276514327, 123.90227985683416]],\n",
       "                {&quot;blur&quot;: 15, &quot;maxZoom&quot;: 18, &quot;minOpacity&quot;: 0.5, &quot;radius&quot;: 15}\n",
       "            ).addTo(map_246f678f6f3f3394742f110726ce9322);\n",
       "        \n",
       "&lt;/script&gt;\" style=\"position:absolute;width:100%;height:100%;left:0;top:0;border:none !important;\" allowfullscreen webkitallowfullscreen mozallowfullscreen></iframe></div></div>"
      ],
      "text/plain": [
       "<folium.folium.Map at 0x1f6cb5d3cd0>"
      ]
     },
     "execution_count": 198,
     "metadata": {},
     "output_type": "execute_result"
    }
   ],
   "source": [
    "fol_map = folium.Map(location=[10.847622263721211, 124.88887070186077], zoom_start=8)\n",
    "markers = df_locs[['Latitude','Longitude']].values\n",
    "fol_map.add_child(plugins.HeatMap(markers, radius=15))\n",
    "fol_map"
   ]
  }
 ],
 "metadata": {
  "interpreter": {
   "hash": "0195fe4312152c0ac331eaea10c898d5784d4b9c7229439d5708992bedf79647"
  },
  "kernelspec": {
   "display_name": "Python 3.10.0 64-bit",
   "language": "python",
   "name": "python3"
  },
  "language_info": {
   "codemirror_mode": {
    "name": "ipython",
    "version": 3
   },
   "file_extension": ".py",
   "mimetype": "text/x-python",
   "name": "python",
   "nbconvert_exporter": "python",
   "pygments_lexer": "ipython3",
   "version": "3.10.0"
  }
 },
 "nbformat": 4,
 "nbformat_minor": 2
}
