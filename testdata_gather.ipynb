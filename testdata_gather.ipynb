{
 "cells": [
  {
   "cell_type": "markdown",
   "metadata": {},
   "source": [
    "# I. Data Gathering"
   ]
  },
  {
   "cell_type": "markdown",
   "metadata": {},
   "source": [
    "Using the following libraries, *pandas*, [snscrape](https://github.com/JustAnotherArchivist/snscrape) that scrapes tweets from twitter without needing the *Twitter API*, *itertools*, and *openpyxl*"
   ]
  },
  {
   "cell_type": "code",
   "execution_count": 3,
   "metadata": {},
   "outputs": [],
   "source": [
    "import pandas as pd\n",
    "import snscrape.modules.twitter as sntwitter\n",
    "import itertools\n",
    "import openpyxl"
   ]
  },
  {
   "cell_type": "markdown",
   "metadata": {},
   "source": [
    "## Coordinates of City of Baybay from Google Maps within a 10km radius\n",
    "### no search terms"
   ]
  },
  {
   "cell_type": "code",
   "execution_count": 4,
   "metadata": {},
   "outputs": [],
   "source": [
    "loc = '10.653381160861919, 124.8523345577153, 10km'\n",
    "\n",
    "df = pd.DataFrame(itertools.islice(sntwitter.TwitterSearchScraper(\n",
    "    'since:2022-04-08 until:2022-04-13 geocode:\"{}\"'.format(loc)).get_items(), 100))[['date', 'content', 'coordinates', 'place']]\n",
    "\n",
    "\n",
    "df.head()\n",
    "df.to_csv(\"agaton_baybay.csv\")"
   ]
  },
  {
   "cell_type": "markdown",
   "metadata": {},
   "source": [
    "### with added search terms"
   ]
  },
  {
   "cell_type": "code",
   "execution_count": null,
   "metadata": {},
   "outputs": [],
   "source": [
    "loc = '10.653381160861919, 124.8523345577153, 20km'\n",
    "\n",
    "df = pd.DataFrame(itertools.islice(sntwitter.TwitterSearchScraper(\n",
    "    'help OR tulong OR baha OR flood OR ulan OR landslide OR bagyo since:2022-04-08 until:2022-04-13 geocode:\"{}\"'.format(loc)).get_items(), 100))[['date', 'content', 'coordinates', 'place']]\n",
    "\n",
    "\n",
    "df.head()\n",
    "df.to_csv(\"agaton_baybay2.csv\")"
   ]
  },
  {
   "cell_type": "markdown",
   "metadata": {},
   "source": [
    "## Coordinates of Leyte from Google Maps within a 100km radius"
   ]
  },
  {
   "cell_type": "code",
   "execution_count": null,
   "metadata": {},
   "outputs": [],
   "source": [
    "\n",
    "loc = '10.847622263721211, 124.88887070186077, 100km'\n",
    "\n",
    "df = pd.DataFrame(itertools.islice(sntwitter.TwitterSearchScraper(\n",
    "    'help OR tulong OR baha OR flood OR ulan OR landslide OR bagyo since:2022-04-08 until:2022-04-13 geocode:\"{}\"'.format(loc)).get_items(), 100))[['date', 'content', 'coordinates', 'place']]\n",
    "\n",
    "\n",
    "df.head()\n",
    "df.to_csv(\"agaton_leyte.csv\")"
   ]
  },
  {
   "cell_type": "markdown",
   "metadata": {},
   "source": [
    "## Location coordinates and radius covers whole country (Philippines)"
   ]
  },
  {
   "cell_type": "code",
   "execution_count": null,
   "metadata": {},
   "outputs": [],
   "source": [
    "loc = '11.91234035382624, 122.87728903803962, 785km'\n",
    "\n",
    "df = pd.DataFrame(itertools.islice(sntwitter.TwitterSearchScraper(\n",
    "    'help OR tulong OR baha OR flood OR ulan OR landslide OR bagyo since:2022-04-08 until:2022-04-13 geocode:\"{}\"'.format(loc)).get_items(), 500))[['date', 'content', 'coordinates', 'place']]\n",
    "\n",
    "\n",
    "df.head()\n",
    "df.to_csv(\"testph.csv\")"
   ]
  },
  {
   "cell_type": "markdown",
   "metadata": {},
   "source": [
    "*agaton_leyte.csv* is the dataset to be used for this problem."
   ]
  }
 ],
 "metadata": {
  "interpreter": {
   "hash": "0195fe4312152c0ac331eaea10c898d5784d4b9c7229439d5708992bedf79647"
  },
  "kernelspec": {
   "display_name": "Python 3.10.0 64-bit",
   "language": "python",
   "name": "python3"
  },
  "language_info": {
   "codemirror_mode": {
    "name": "ipython",
    "version": 3
   },
   "file_extension": ".py",
   "mimetype": "text/x-python",
   "name": "python",
   "nbconvert_exporter": "python",
   "pygments_lexer": "ipython3",
   "version": "3.10.0"
  },
  "orig_nbformat": 4
 },
 "nbformat": 4,
 "nbformat_minor": 2
}
