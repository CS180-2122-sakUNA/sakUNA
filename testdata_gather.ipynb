{
 "cells": [
  {
   "cell_type": "code",
   "execution_count": 2,
   "metadata": {},
   "outputs": [],
   "source": [
    "import pandas as pd\n",
    "import snscrape.modules.twitter as sntwitter\n",
    "import itertools\n",
    "import openpyxl"
   ]
  },
  {
   "cell_type": "code",
   "execution_count": 25,
   "metadata": {},
   "outputs": [],
   "source": [
    "# Coordinates of City of Baybay from Google Maps within a 10km radius\n",
    "# (no search terms)\n",
    "\n",
    "loc = '10.653381160861919, 124.8523345577153, 10km'\n",
    "\n",
    "df = pd.DataFrame(itertools.islice(sntwitter.TwitterSearchScraper(\n",
    "    'since:2022-04-08 until:2022-04-13 geocode:\"{}\"'.format(loc)).get_items(), 100))[['date', 'content', 'coordinates', 'place']]\n",
    "\n",
    "\n",
    "df.head()\n",
    "df.to_csv(\"agaton_baybay.csv\")"
   ]
  },
  {
   "cell_type": "code",
   "execution_count": 8,
   "metadata": {},
   "outputs": [],
   "source": [
    "# Coordinates of City of Baybay from Google Maps within a 10km radius\n",
    "# with added search terms\n",
    "\n",
    "loc = '10.653381160861919, 124.8523345577153, 20km'\n",
    "\n",
    "df = pd.DataFrame(itertools.islice(sntwitter.TwitterSearchScraper(\n",
    "    'help OR tulong OR baha OR flood OR ulan OR landslide OR bagyo since:2022-04-08 until:2022-04-13 geocode:\"{}\"'.format(loc)).get_items(), 100))[['date', 'content', 'coordinates', 'place']]\n",
    "\n",
    "\n",
    "df.head()\n",
    "df.to_csv(\"agaton_baybay2.csv\")"
   ]
  },
  {
   "cell_type": "code",
   "execution_count": 13,
   "metadata": {},
   "outputs": [],
   "source": [
    "# Coordinates of Leyte from Google Maps within a 100km radius\n",
    "loc = '10.847622263721211, 124.88887070186077, 100km'\n",
    "\n",
    "df = pd.DataFrame(itertools.islice(sntwitter.TwitterSearchScraper(\n",
    "    'help OR tulong OR baha OR flood OR ulan OR landslide OR bagyo since:2022-04-08 until:2022-04-13 geocode:\"{}\"'.format(loc)).get_items(), 100))[['date', 'content', 'coordinates', 'place']]\n",
    "\n",
    "\n",
    "df.head()\n",
    "df.to_csv(\"agaton_leyte.csv\")"
   ]
  },
  {
   "cell_type": "code",
   "execution_count": 10,
   "metadata": {},
   "outputs": [],
   "source": [
    "# location coords and radius covers whole country (Philippines)\n",
    "\n",
    "loc = '11.91234035382624, 122.87728903803962, 785km'\n",
    "\n",
    "df = pd.DataFrame(itertools.islice(sntwitter.TwitterSearchScraper(\n",
    "    'help OR tulong OR baha OR flood OR ulan OR landslide OR bagyo since:2022-04-08 until:2022-04-13 geocode:\"{}\"'.format(loc)).get_items(), 500))[['date', 'content', 'coordinates', 'place']]\n",
    "\n",
    "\n",
    "df.head()\n",
    "df.to_csv(\"testph.csv\")"
   ]
  }
 ],
 "metadata": {
  "interpreter": {
   "hash": "2acb1958a27f8210c8bff822e399a5d4cbebeefafca82cf4660a2cac540846d5"
  },
  "kernelspec": {
   "display_name": "Python 3.9.12 ('cs180')",
   "language": "python",
   "name": "python3"
  },
  "language_info": {
   "codemirror_mode": {
    "name": "ipython",
    "version": 3
   },
   "file_extension": ".py",
   "mimetype": "text/x-python",
   "name": "python",
   "nbconvert_exporter": "python",
   "pygments_lexer": "ipython3",
   "version": "3.9.12"
  },
  "orig_nbformat": 4
 },
 "nbformat": 4,
 "nbformat_minor": 2
}
